{
 "cells": [
  {
   "cell_type": "code",
   "execution_count": 6,
   "metadata": {
    "collapsed": true
   },
   "outputs": [],
   "source": [
    "from gensim.models import Word2Vec\n",
    "from gensim.models.keyedvectors import KeyedVectors\n",
    "#from gensim.models import Phrases\n",
    "from gensim.models.word2vec import LineSentence\n",
    "import numpy as np\n",
    "import spacy \n",
    "import urllib\n",
    "import string"
   ]
  },
  {
   "cell_type": "code",
   "execution_count": 7,
   "metadata": {
    "collapsed": true
   },
   "outputs": [],
   "source": [
    "#loads the english module of spacy \n",
    "nlp = spacy.load('en')"
   ]
  },
  {
   "cell_type": "code",
   "execution_count": 11,
   "metadata": {},
   "outputs": [],
   "source": [
    "#opens the war and peace text\n",
    "f=urllib.request.urlopen(\"https://www.nytimes.com/2016/12/14/magazine/the-great-ai-awakening.html\")\n",
    "war_peace_raw = f.read().decode(\"utf-8\")\n",
    "#war_peace_raw = open('./input/war_and_peace.txt').read()"
   ]
  },
  {
   "cell_type": "code",
   "execution_count": 12,
   "metadata": {},
   "outputs": [
    {
     "name": "stdout",
     "output_type": "stream",
     "text": [
      "<class 'str'>\n"
     ]
    }
   ],
   "source": [
    "print(type(war_peace_raw))"
   ]
  },
  {
   "cell_type": "code",
   "execution_count": 13,
   "metadata": {},
   "outputs": [],
   "source": [
    "#tokenizes each item in war and peace text \n",
    "war_peace_lower = war_peace_raw.lower()\n",
    "war_peace = nlp(war_peace_lower)"
   ]
  },
  {
   "cell_type": "code",
   "execution_count": 14,
   "metadata": {
    "collapsed": true
   },
   "outputs": [],
   "source": [
    "from collections import Counter"
   ]
  },
  {
   "cell_type": "code",
   "execution_count": 15,
   "metadata": {},
   "outputs": [
    {
     "name": "stdout",
     "output_type": "stream",
     "text": [
      "[('data', 441), ('story', 206), ('text', 179), ('content', 170), ('para', 165), ('total', 162), ('body', 160), ('div', 135), ('meta', 131), ('google', 110), ('li', 91), ('ad', 75), ('machine', 65), ('neural', 64), ('like', 61), ('nocontent', 58), ('p', 57), ('new', 56), ('translate', 56), ('link', 52), ('hidden', 50), ('close', 49), ('brain', 49), ('span', 44), ('network', 44), ('artificial', 43), ('script', 43), ('cat', 41), ('pages', 41), ('main', 40), ('translation', 38), ('intelligence', 37), ('time', 37), ('skip', 36), ('people', 35), ('dean', 34), ('great', 33), ('robots', 32), ('small', 31), ('var', 31), ('function', 31), ('schuster', 31), ('learning', 30), ('human', 30), ('work', 30), ('le', 29), ('times', 28), ('button', 27), ('team', 27), ('header', 26), ('company', 26), ('said', 26), ('networks', 26), ('hughes', 26), ('reading', 25), ('english', 25), ('attribute', 25), ('long', 24), ('theme', 24), ('computer', 24), ('hinton', 23), ('language', 23), ('system', 23), ('way', 23), ('ai', 22), ('assets', 22), ('visually', 21), ('continue', 21), ('section', 20), ('york', 20), ('told', 19), ('old', 19), ('layout', 18), ('called', 18), ('paper', 18), ('em', 18), ('know', 18), ('article', 17), ('image', 17), ('nytd', 17), ('different', 17), ('embedded', 16), ('figcaption', 16), ('placeholder', 16), ('years', 16), ('pullquote', 16), ('redesign', 16), ('gaq', 16), ('marginalia', 16), ('cover', 15), ('collection', 15), ('recognition', 15), ('jeff', 15), ('pichai', 15), ('computers', 15), ('mediaviewer', 15), ('took', 15), ('big', 15), ('ball', 15), ('point', 15), ('item', 15), ('media', 14), ('important', 14), ('footer', 14), ('large', 14), ('good', 14), ('day', 14), ('things', 14), ('word', 14), ('ul', 14), ('magazine', 13), ('site', 13), ('css', 13), ('view', 13), ('control', 13), ('right', 13), ('wanted', 13), ('year', 13), ('words', 13), ('want', 13), ('rules', 13), ('patterns', 13), ('container', 12), ('email', 12), ('subheading', 12), ('began', 12), ('mountain', 12), ('going', 12), ('error', 12), ('chinese', 12), ('neurons', 12), ('information', 12), ('millions', 12), ('summary', 12), ('society', 11), ('javascript', 11), ('try', 11), ('aria', 11), ('japanese', 11), ('world', 11), ('based', 11), ('machines', 11), ('went', 11), ('project', 11), ('corrado', 11), ('thought', 11), ('pattern', 11), ('opinion', 11), ('page', 10), ('popular', 10), ('services', 10), ('computing', 10), ('help', 10), ('index', 10), ('return', 10), ('input', 10), ('img', 10), ('early', 10), ('service', 10), ('sentences', 10), ('version', 10), ('special', 10), ('future', 10), ('problems', 10), ('need', 10), ('silicon', 10), ('valley', 10), ('video', 10), ('showed', 10), ('best', 10), ('general', 10), ('ideas', 10), ('ask', 10), ('research', 10), ('identify', 10), ('green', 10), ('little', 10), ('newsletter', 10), ('menu', 10), ('app', 9), ('comments', 9), ('build', 9), ('description', 9), ('tag', 9), ('nav', 9), ('true', 9), ('foundation', 9), ('group', 9), ('search', 9), ('tools', 9), ('form', 9), ('photo', 9), ('late', 9), ('post', 9), ('able', 9), ('thousand', 9), ('experiments', 9), ('building', 9), ('entire', 9), ('users', 9), ('french', 9), ('engineers', 9), ('sentence', 9), ('run', 9), ('interactive', 9), ('generated', 9), ('example', 9), ('place', 9), ('tell', 9), ('sort', 9), ('deep', 9), ('ng', 9), ('seen', 9), ('training', 9), ('layer', 9), ('knew', 9), ('box', 9), ('thing', 9), ('sure', 9), ('ie', 8), ('feature', 8), ('type', 8), ('size', 8), ('itemscope', 8), ('lt', 8), ('transform', 8), ('reinvent', 8), ('e', 8), ('tech', 8), ('learn', 8), ('navigation', 8), ('horizontal', 8), ('clear', 8), ('later', 8), ('high', 8), ('set', 8), ('finke', 8), ('saw', 8), ('demonstrated', 8), ('approach', 8), ('came', 8), ('months', 8), ('major', 8), ('baidu', 8), ('limit', 8), ('caption', 8), ('graphic', 8), ('getflexdata', 8), ('src', 8), ('imagine', 8), ('maps', 8), ('similar', 8), ('understand', 8), ('process', 8), ('face', 8), ('percent', 8), ('better', 8), ('youtube', 8), ('model', 8), ('trained', 8), ('child', 8), ('column', 8), ('ribbon', 7), ('awakening', 7), ('icon', 7), ('url', 7), ('poised', 7), ('json', 7), ('published', 7), ('lewis', 7), ('geoffrey', 7), ('speech', 7), ('s', 7), ('nyt', 7), ('end', 7), ('sprite', 7), ('mobile', 7), ('sharetools', 7), ('rekimoto', 7), ('leopard', 7), ('real', 7), ('labeled', 7), ('theory', 7), ('soon', 7), ('represent', 7), ('scientists', 7), ('results', 7), ('given', 7), ('today', 7), ('learned', 7), ('sense', 7), ('computational', 7), ('humans', 7), ('find', 7), ('think', 7), ('technology', 7), ('public', 7), ('got', 7), ('worked', 7), ('mind', 7), ('simple', 7), ('room', 7), ('looked', 7), ('look', 7), ('away', 7), ('idea', 7), ('lot', 7), ('perfect', 7), ('space', 7), ('sign', 7), ('fast', 7), ('improvement', 7), ('searle', 7), ('aside', 7), ('js', 6), ('tone', 6), ('standard', 6), ('initial', 6), ('images', 6), ('level', 6), ('kraus', 6), ('gideon', 6), ('sundar', 6), ('internet', 6), ('shared', 6), ('map', 6), ('earlier', 6), ('user', 6), ('imageobject', 6), ('supplemental', 6), ('half', 6), ('near', 6), ('meant', 6), ('days', 6), ('office', 6), ('german', 6), ('outside', 6), ('exactly', 6), ('product', 6), ('digital', 6), ('languages', 6), ('come', 6), ('read', 6), ('arts', 6), ('facility', 6), ('built', 6), ('members', 6), ('helped', 6), ('researchers', 6), ('concept', 6), ('eyes', 6), ('hand', 6), ('engineer', 6), ('complex', 6), ('kind', 6), ('symbolic', 6), ('order', 6), ('reason', 6), ('development', 6), ('says', 6), ('case', 6), ('step', 6), ('voters', 6), ('vote', 6), ('car', 6), ('shown', 6), ('microkitchen', 6), ('privacy', 6), ('related', 6), ('numbers', 6), ('sub', 6), ('viewport', 6), ('html', 5), ('extra', 5), ('head', 5), ('android', 5), ('experience', 5), ('style', 5), ('longer', 5), ('home', 5), ('heading', 5), ('twitter', 5), ('promo', 5), ('x', 5), ('bleed', 5), ('university', 5), ('experiment', 5), ('original', 5), ('west', 5), ('source', 5), ('single', 5), ('ratio', 5), ('tall', 5), ('viewer', 5), ('candidate', 5), ('chief', 5), ('asked', 5), ('trying', 5), ('reliable', 5), ('facebook', 5), ('seven', 5), ('field', 5), ('conference', 5), ('nearly', 5), ('entirely', 5), ('self', 5), ('minute', 5), ('relevant', 5), ('instead', 5), ('stop', 5), ('intelligent', 5), ('intern', 5), ('open', 5), ('school', 5), ('medical', 5), ('program', 5), ('proposed', 5), ('finally', 5), ('ways', 5), ('fact', 5), ('stories', 5), ('expected', 5), ('consciousness', 5), ('takes', 5), ('organization', 5), ('working', 5), ('marvin', 5), ('named', 5), ('portion', 5), ('chess', 5), ('tasks', 5), ('handle', 5), ('basic', 5), ('forward', 5), ('ability', 5), ('picture', 5), ('greater', 5), ('inputs', 5), ('complete', 5), ('train', 5), ('dog', 5), ('recognize', 5), ('strong', 5), ('summarize', 5), ('distant', 5), ('slightly', 5), ('needed', 5), ('code', 5), ('party', 5), ('format', 4), ('xmlns', 4), ('title', 4), ('touch', 4), ('icons', 4), ('id', 4), ('rights', 4), ('terms', 4), ('systems', 4), ('display', 4), ('spotlight', 4), ('path', 4), ('begin', 4), ('r', 4), ('t', 4), ('d', 4), ('dom', 4), ('panel', 4), ('masthead', 4), ('transparent', 4), ('branding', 4), ('label', 4), ('vertical', 4), ('tragedy', 4), ('improved', 4), ('wrote', 4), ('recent', 4), ('explained', 4), ('despite', 4), ('second', 4), ('direction', 4), ('kilimanjaro', 4), ('ran', 4), ('quote', 4), ('highest', 4), ('god', 4), ('output', 4), ('previous', 4), ('demand', 4), ('london', 4), ('phrase', 4), ('executive', 4), ('brian', 4), ('friend', 4), ('recently', 4), ('knowledge', 4), ('trial', 4), ('history', 4), ('million', 4), ('billion', 4), ('translations', 4), ('grew', 4), ('gains', 4), ('quality', 4), ('traffic', 4), ('united', 4), ('states', 4), ('month', 4), ('corporate', 4), ('students', 4), ('use', 4), ('believe', 4), ('mere', 4), ('term', 4), ('explicit', 4), ('goal', 4), ('tool', 4), ('generally', 4), ('fashion', 4), ('actually', 4), ('famous', 4), ('test', 4), ('course', 4), ('conversation', 4), ('grown', 4), ('evolution', 4), ('paradigm', 4), ('far', 4), ('contribute', 4), ('decade', 4), ('efficient', 4), ('man', 4), ('narrow', 4), ('health', 4), ('software', 4), ('science', 4), ('minsky', 4), ('number', 4), ('pretty', 4), ('quoc', 4), ('taken', 4), ('logical', 4), ('definitions', 4), ('works', 4), ('math', 4), ('individual', 4), ('theoretical', 4), ('developed', 4), ('meeting', 4), ('offices', 4), ('toronto', 4), ('driving', 4), ('spoke', 4), ('frank', 4), ('makes', 4), ('edges', 4), ('processing', 4), ('art', 4), ('issue', 4), ('red', 4), ('saying', 4), ('problem', 4), ('means', 4), ('allowed', 4), ('brains', 4), ('scale', 4), ('moment', 4), ('cats', 4), ('ears', 4), ('yes', 4), ('hard', 4), ('blob', 4), ('outputs', 4), ('tunnels', 4), ('defibrillator', 4), ('dogs', 4), ('pixels', 4), ('maybe', 4), ('unlabeled', 4), ('prediction', 4), ('occasion', 4), ('paid', 4), ('felt', 4), ('table', 4), ('throw', 4), ('week', 4), ('travel', 4), ('desks', 4), ('purpose', 4), ('hardware', 4), ('turned', 4), ('chen', 4), ('looking', 4), ('running', 4), ('coverage', 4), ('quest', 4), ('action', 4), ('schmidhuber', 4), ('membercenter', 4), ('edge', 3), ('width', 3), ('precomposed', 3), ('ios', 3), ('screen', 3), ('googleplay', 3), ('reader', 3), ('iphone', 3), ('ipad', 3), ('interpreters', 3), ('amazon', 3), ('n', 3), ('o', 3), ('https', 3), ('tagsrc', 3), ('catch', 3), ('products', 3), ('doc', 3), ('iframe', 3), ('auth', 3), ('background', 3), ('color', 3), ('font', 3), ('inline', 3), ('margin', 3), ('message', 3), ('focusable', 3), ('classic', 3), ('flyout', 3), ('submit', 3), ('short', 3), ('person', 3), ('author', 3), ('professor', 3), ('posts', 3), ('social', 3), ('visited', 3), ('murakami', 3), ('produce', 3), ('written', 3), ('hemingway', 3), ('snow', 3), ('covered', 3), ('feet', 3), ('africa', 3), ('summit', 3), ('ngaje', 3), ('ngai', 3), ('house', 3), ('frozen', 3), ('capabilities', 3), ('hours', 3), ('thousands', 3), ('successful', 3), ('effect', 3), ('series', 3), ('gathered', 3), ('engineering', 3), ('stood', 3), ('cross', 3), ('transformation', 3), ('department', 3), ('ago', 3), ('solve', 3), ('efforts', 3), ('effort', 3), ('performance', 3), ('platform', 3), ('celebrated', 3), ('curve', 3), ('included', 3), ('rest', 3), ('roughly', 3), ('lo', 3), ('que', 3), ('write', 3), ('past', 3), ('particular', 3), ('arms', 3), ('resources', 3), ('academic', 3), ('departments', 3), ('known', 3), ('phone', 3), ('graduate', 3), ('stake', 3), ('piecemeal', 3), ('innovation', 3), ('black', 3), ('persuasive', 3), ('manage', 3), ('quickly', 3), ('wrong', 3), ('task', 3), ('mechanism', 3), ('instructions', 3), ('present', 3), ('nephew', 3), ('sorts', 3), ('age', 3), ('executives', 3), ('predictions', 3), ('progress', 3), ('uncommon', 3), ('defies', 3), ('stereotypes', 3), ('accustomed', 3), ('ones', 3), ('technical', 3), ('introduced', 3), ('employees', 3), ('convictions', 3), ('ultimately', 3), ('competitors', 3), ('expect', 3), ('significant', 3), ('leader', 3), ('pioneer', 3), ('brief', 3), ('dozen', 3), ('lab', 3), ('colleague', 3), ('brought', 3), ('majority', 3), ('dictionary', 3), ('usually', 3), ('definition', 3), ('lead', 3), ('akin', 3), ('researcher', 3), ('hold', 3), ('flexible', 3), ('connections', 3), ('structure', 3), ('life', 3), ('abilities', 3), ('skills', 3), ('institution', 3), ('thinking', 3), ('enormous', 3), ('correct', 3), ('animals', 3), ('drawn', 3), ('inflection', 3), ('photos', 3), ('existence', 3), ('left', 3), ('leads', 3), ('classification', 3), ('convolutional', 3), ('collective', 3), ('monkey', 3), ('spider', 3), ('interested', 3), ('turns', 3), ('goes', 3), ('canadian', 3), ('coming', 3), ('speaks', 3), ('contemporary', 3), ('talking', 3), ('perceptron', 3), ('carried', 3), ('yann', 3), ('visual', 3), ('looks', 3), ('circles', 3), ('care', 3), ('found', 3), ('pick', 3), ('door', 3), ('marked', 3), ('start', 3), ('lots', 3), ('power', 3), ('kept', 3), ('business', 3), ('average', 3), ('attempt', 3), ('investment', 3), ('creation', 3), ('comparable', 3), ('pointy', 3), ('stored', 3), ('memory', 3), ('apply', 3), ('toddler', 3), ('middle', 3), ('groups', 3), ('threw', 3), ('joe', 3), ('register', 3), ('weak', 3), ('nature', 3), ('mislabel', 3), ('assurances', 3), ('woman', 3), ('happen', 3), ('frames', 3), ('isolated', 3), ('reached', 3), ('equivalent', 3), ('papers', 3), ('fall', 3), ('remembers', 3), ('answer', 3), ('curious', 3), ('unlike', 3), ('mikolov', 3), ('sounded', 3), ('music', 3), ('colleagues', 3), ('linguistic', 3), ('predict', 3), ('delivered', 3), ('including', 3), ('offers', 3), ('newsletters', 3), ('reserved', 3), ('design', 3), ('centers', 3), ('chip', 3), ('chips', 3), ('hundreds', 3), ('dimensions', 3), ('production', 3), ('mike', 3), ('shoulders', 3), ('reality', 3), ('weeks', 3), ('wu', 3), ('february', 3), ('morning', 3), ('statistical', 3), ('speculative', 3), ('line', 3), ('bleu', 3), ('scores', 3), ('pair', 3), ('swimming', 3), ('sea', 3), ('mud', 3), ('held', 3), ('inches', 3), ('telling', 3), ('radiologists', 3), ('subscriptions', 3), ('prompt', 3), ('combined', 3), ('comment', 3), ('apr', 3), ('education', 3), ('events', 3), ('ref', 3), ('gt', 2), ('http', 2), ('compatible', 2), ('maximum', 2), ('max', 2), ('sale', 2), ('sectionfronts', 2), ('identifier', 2), ('unit', 2), ('svc', 2), ('styles', 2), ('abra', 2), ('u', 2), ('l', 2), ('c', 2), ('signup', 2), ('fixed', 2), ('subscribe', 2), ('auto', 2), ('mediadotnet', 2), ('indexbid', 2), ('timeout', 2), ('isssl', 2), ('append', 2), ('amznads', 2), ('esi', 2), ('include', 2), ('boomerangsaveloadtime', 2), ('application', 2), ('mtr', 2), ('growl', 2), ('lib', 2), ('block', 2), ('height', 2), ('bed', 2), ('weight', 2), ('repeat', 2), ('upgrade', 2), ('ffffff', 2), ('sections', 2), ('pinterest', 2), ('save', 2), ('jumbo', 2), ('publish', 2), ('bubble', 2), ('null', 2), ('figure', 2), ('orientation', 2), ('balance', 2), ('share', 2), ('november', 2), ('jun', 2), ('tokyo', 2), ('online', 2), ('notice', 2), ('sleep', 2), ('opening', 2), ('passage', 2), ('western', 2), ('masai', 2), ('carcass', 2), ('dry', 2), ('native', 2), ('speaker', 2), ('missing', 2), ('referred', 2), ('promoted', 2), ('discovery', 2), ('everybody', 2), ('guests', 2), ('slips', 2), ('tables', 2), ('portuguese', 2), ('spanish', 2), ('dark', 2), ('calif', 2), ('khan', 2), ('mayor', 2), ('answers', 2), ('introducing', 2), ('quarter', 2), ('construction', 2), ('king', 2), ('announced', 2), ('occasions', 2), ('complicated', 2), ('practice', 2), ('turn', 2), ('notion', 2), ('dates', 2), ('vaguely', 2), ('decades', 2), ('gut', 2), ('consumer', 2), ('exists', 2), ('natural', 2), ('appeared', 2), ('arabic', 2), ('heart', 2), ('india', 2), ('completed', 2), ('improvements', 2), ('obscure', 2), ('slide', 2), ('monitors', 2), ('borges', 2), ('es', 2), ('por', 2), ('rendered', 2), ('apple', 2), ('widely', 2), ('personally', 2), ('attendance', 2), ('ambient', 2), ('invoked', 2), ('meaning', 2), ('street', 2), ('powerful', 2), ('guided', 2), ('apollo', 2), ('missions', 2), ('hotel', 2), ('airport', 2), ('simply', 2), ('obviously', 2), ('evaluate', 2), ('route', 2), ('automate', 2), ('skill', 2), ('involved', 2), ('tries', 2), ('possible', 2), ('current', 2), ('applications', 2), ('context', 2), ('earnest', 2), ('store', 2), ('truly', 2), ('conceivably', 2), ('wave', 2), ('detect', 2), ('cancer', 2), ('ancient', 2), ('achievement', 2), ('minutes', 2), ('successfully', 2), ('laid', 2), ('plausible', 2)]\n"
     ]
    }
   ],
   "source": [
    "top_words=Counter([entry.string.strip() for entry in war_peace\n",
    "                  if entry.is_alpha and not entry.is_stop]).most_common(1000)\n",
    "print(top_words)"
   ]
  },
  {
   "cell_type": "code",
   "execution_count": 16,
   "metadata": {
    "collapsed": true
   },
   "outputs": [],
   "source": [
    "just_words = [item[0] for item in top_words]"
   ]
  },
  {
   "cell_type": "code",
   "execution_count": 17,
   "metadata": {},
   "outputs": [
    {
     "name": "stdout",
     "output_type": "stream",
     "text": [
      "['data', 'story', 'text', 'content', 'para', 'total', 'body', 'div', 'meta', 'google', 'li', 'ad', 'machine', 'neural', 'like', 'nocontent', 'p', 'new', 'translate', 'link', 'hidden', 'close', 'brain', 'span', 'network', 'artificial', 'script', 'cat', 'pages', 'main', 'translation', 'intelligence', 'time', 'skip', 'people', 'dean', 'great', 'robots', 'small', 'var', 'function', 'schuster', 'learning', 'human', 'work', 'le', 'times', 'button', 'team', 'header', 'company', 'said', 'networks', 'hughes', 'reading', 'english', 'attribute', 'long', 'theme', 'computer', 'hinton', 'language', 'system', 'way', 'ai', 'assets', 'visually', 'continue', 'section', 'york', 'told', 'old', 'layout', 'called', 'paper', 'em', 'know', 'article', 'image', 'nytd', 'different', 'embedded', 'figcaption', 'placeholder', 'years', 'pullquote', 'redesign', 'gaq', 'marginalia', 'cover', 'collection', 'recognition', 'jeff', 'pichai', 'computers', 'mediaviewer', 'took', 'big', 'ball', 'point', 'item', 'media', 'important', 'footer', 'large', 'good', 'day', 'things', 'word', 'ul', 'magazine', 'site', 'css', 'view', 'control', 'right', 'wanted', 'year', 'words', 'want', 'rules', 'patterns', 'container', 'email', 'subheading', 'began', 'mountain', 'going', 'error', 'chinese', 'neurons', 'information', 'millions', 'summary', 'society', 'javascript', 'try', 'aria', 'japanese', 'world', 'based', 'machines', 'went', 'project', 'corrado', 'thought', 'pattern', 'opinion', 'page', 'popular', 'services', 'computing', 'help', 'index', 'return', 'input', 'img', 'early', 'service', 'sentences', 'version', 'special', 'future', 'problems', 'need', 'silicon', 'valley', 'video', 'showed', 'best', 'general', 'ideas', 'ask', 'research', 'identify', 'green', 'little', 'newsletter', 'menu', 'app', 'comments', 'build', 'description', 'tag', 'nav', 'true', 'foundation', 'group', 'search', 'tools', 'form', 'photo', 'late', 'post', 'able', 'thousand', 'experiments', 'building', 'entire', 'users', 'french', 'engineers', 'sentence', 'run', 'interactive', 'generated', 'example', 'place', 'tell', 'sort', 'deep', 'ng', 'seen', 'training', 'layer', 'knew', 'box', 'thing', 'sure', 'ie', 'feature', 'type', 'size', 'itemscope', 'lt', 'transform', 'reinvent', 'e', 'tech', 'learn', 'navigation', 'horizontal', 'clear', 'later', 'high', 'set', 'finke', 'saw', 'demonstrated', 'approach', 'came', 'months', 'major', 'baidu', 'limit', 'caption', 'graphic', 'getflexdata', 'src', 'imagine', 'maps', 'similar', 'understand', 'process', 'face', 'percent', 'better', 'youtube', 'model', 'trained', 'child', 'column', 'ribbon', 'awakening', 'icon', 'url', 'poised', 'json', 'published', 'lewis', 'geoffrey', 'speech', 's', 'nyt', 'end', 'sprite', 'mobile', 'sharetools', 'rekimoto', 'leopard', 'real', 'labeled', 'theory', 'soon', 'represent', 'scientists', 'results', 'given', 'today', 'learned', 'sense', 'computational', 'humans', 'find', 'think', 'technology', 'public', 'got', 'worked', 'mind', 'simple', 'room', 'looked', 'look', 'away', 'idea', 'lot', 'perfect', 'space', 'sign', 'fast', 'improvement', 'searle', 'aside', 'js', 'tone', 'standard', 'initial', 'images', 'level', 'kraus', 'gideon', 'sundar', 'internet', 'shared', 'map', 'earlier', 'user', 'imageobject', 'supplemental', 'half', 'near', 'meant', 'days', 'office', 'german', 'outside', 'exactly', 'product', 'digital', 'languages', 'come', 'read', 'arts', 'facility', 'built', 'members', 'helped', 'researchers', 'concept', 'eyes', 'hand', 'engineer', 'complex', 'kind', 'symbolic', 'order', 'reason', 'development', 'says', 'case', 'step', 'voters', 'vote', 'car', 'shown', 'microkitchen', 'privacy', 'related', 'numbers', 'sub', 'viewport', 'html', 'extra', 'head', 'android', 'experience', 'style', 'longer', 'home', 'heading', 'twitter', 'promo', 'x', 'bleed', 'university', 'experiment', 'original', 'west', 'source', 'single', 'ratio', 'tall', 'viewer', 'candidate', 'chief', 'asked', 'trying', 'reliable', 'facebook', 'seven', 'field', 'conference', 'nearly', 'entirely', 'self', 'minute', 'relevant', 'instead', 'stop', 'intelligent', 'intern', 'open', 'school', 'medical', 'program', 'proposed', 'finally', 'ways', 'fact', 'stories', 'expected', 'consciousness', 'takes', 'organization', 'working', 'marvin', 'named', 'portion', 'chess', 'tasks', 'handle', 'basic', 'forward', 'ability', 'picture', 'greater', 'inputs', 'complete', 'train', 'dog', 'recognize', 'strong', 'summarize', 'distant', 'slightly', 'needed', 'code', 'party', 'format', 'xmlns', 'title', 'touch', 'icons', 'id', 'rights', 'terms', 'systems', 'display', 'spotlight', 'path', 'begin', 'r', 't', 'd', 'dom', 'panel', 'masthead', 'transparent', 'branding', 'label', 'vertical', 'tragedy', 'improved', 'wrote', 'recent', 'explained', 'despite', 'second', 'direction', 'kilimanjaro', 'ran', 'quote', 'highest', 'god', 'output', 'previous', 'demand', 'london', 'phrase', 'executive', 'brian', 'friend', 'recently', 'knowledge', 'trial', 'history', 'million', 'billion', 'translations', 'grew', 'gains', 'quality', 'traffic', 'united', 'states', 'month', 'corporate', 'students', 'use', 'believe', 'mere', 'term', 'explicit', 'goal', 'tool', 'generally', 'fashion', 'actually', 'famous', 'test', 'course', 'conversation', 'grown', 'evolution', 'paradigm', 'far', 'contribute', 'decade', 'efficient', 'man', 'narrow', 'health', 'software', 'science', 'minsky', 'number', 'pretty', 'quoc', 'taken', 'logical', 'definitions', 'works', 'math', 'individual', 'theoretical', 'developed', 'meeting', 'offices', 'toronto', 'driving', 'spoke', 'frank', 'makes', 'edges', 'processing', 'art', 'issue', 'red', 'saying', 'problem', 'means', 'allowed', 'brains', 'scale', 'moment', 'cats', 'ears', 'yes', 'hard', 'blob', 'outputs', 'tunnels', 'defibrillator', 'dogs', 'pixels', 'maybe', 'unlabeled', 'prediction', 'occasion', 'paid', 'felt', 'table', 'throw', 'week', 'travel', 'desks', 'purpose', 'hardware', 'turned', 'chen', 'looking', 'running', 'coverage', 'quest', 'action', 'schmidhuber', 'membercenter', 'edge', 'width', 'precomposed', 'ios', 'screen', 'googleplay', 'reader', 'iphone', 'ipad', 'interpreters', 'amazon', 'n', 'o', 'https', 'tagsrc', 'catch', 'products', 'doc', 'iframe', 'auth', 'background', 'color', 'font', 'inline', 'margin', 'message', 'focusable', 'classic', 'flyout', 'submit', 'short', 'person', 'author', 'professor', 'posts', 'social', 'visited', 'murakami', 'produce', 'written', 'hemingway', 'snow', 'covered', 'feet', 'africa', 'summit', 'ngaje', 'ngai', 'house', 'frozen', 'capabilities', 'hours', 'thousands', 'successful', 'effect', 'series', 'gathered', 'engineering', 'stood', 'cross', 'transformation', 'department', 'ago', 'solve', 'efforts', 'effort', 'performance', 'platform', 'celebrated', 'curve', 'included', 'rest', 'roughly', 'lo', 'que', 'write', 'past', 'particular', 'arms', 'resources', 'academic', 'departments', 'known', 'phone', 'graduate', 'stake', 'piecemeal', 'innovation', 'black', 'persuasive', 'manage', 'quickly', 'wrong', 'task', 'mechanism', 'instructions', 'present', 'nephew', 'sorts', 'age', 'executives', 'predictions', 'progress', 'uncommon', 'defies', 'stereotypes', 'accustomed', 'ones', 'technical', 'introduced', 'employees', 'convictions', 'ultimately', 'competitors', 'expect', 'significant', 'leader', 'pioneer', 'brief', 'dozen', 'lab', 'colleague', 'brought', 'majority', 'dictionary', 'usually', 'definition', 'lead', 'akin', 'researcher', 'hold', 'flexible', 'connections', 'structure', 'life', 'abilities', 'skills', 'institution', 'thinking', 'enormous', 'correct', 'animals', 'drawn', 'inflection', 'photos', 'existence', 'left', 'leads', 'classification', 'convolutional', 'collective', 'monkey', 'spider', 'interested', 'turns', 'goes', 'canadian', 'coming', 'speaks', 'contemporary', 'talking', 'perceptron', 'carried', 'yann', 'visual', 'looks', 'circles', 'care', 'found', 'pick', 'door', 'marked', 'start', 'lots', 'power', 'kept', 'business', 'average', 'attempt', 'investment', 'creation', 'comparable', 'pointy', 'stored', 'memory', 'apply', 'toddler', 'middle', 'groups', 'threw', 'joe', 'register', 'weak', 'nature', 'mislabel', 'assurances', 'woman', 'happen', 'frames', 'isolated', 'reached', 'equivalent', 'papers', 'fall', 'remembers', 'answer', 'curious', 'unlike', 'mikolov', 'sounded', 'music', 'colleagues', 'linguistic', 'predict', 'delivered', 'including', 'offers', 'newsletters', 'reserved', 'design', 'centers', 'chip', 'chips', 'hundreds', 'dimensions', 'production', 'mike', 'shoulders', 'reality', 'weeks', 'wu', 'february', 'morning', 'statistical', 'speculative', 'line', 'bleu', 'scores', 'pair', 'swimming', 'sea', 'mud', 'held', 'inches', 'telling', 'radiologists', 'subscriptions', 'prompt', 'combined', 'comment', 'apr', 'education', 'events', 'ref', 'gt', 'http', 'compatible', 'maximum', 'max', 'sale', 'sectionfronts', 'identifier', 'unit', 'svc', 'styles', 'abra', 'u', 'l', 'c', 'signup', 'fixed', 'subscribe', 'auto', 'mediadotnet', 'indexbid', 'timeout', 'isssl', 'append', 'amznads', 'esi', 'include', 'boomerangsaveloadtime', 'application', 'mtr', 'growl', 'lib', 'block', 'height', 'bed', 'weight', 'repeat', 'upgrade', 'ffffff', 'sections', 'pinterest', 'save', 'jumbo', 'publish', 'bubble', 'null', 'figure', 'orientation', 'balance', 'share', 'november', 'jun', 'tokyo', 'online', 'notice', 'sleep', 'opening', 'passage', 'western', 'masai', 'carcass', 'dry', 'native', 'speaker', 'missing', 'referred', 'promoted', 'discovery', 'everybody', 'guests', 'slips', 'tables', 'portuguese', 'spanish', 'dark', 'calif', 'khan', 'mayor', 'answers', 'introducing', 'quarter', 'construction', 'king', 'announced', 'occasions', 'complicated', 'practice', 'turn', 'notion', 'dates', 'vaguely', 'decades', 'gut', 'consumer', 'exists', 'natural', 'appeared', 'arabic', 'heart', 'india', 'completed', 'improvements', 'obscure', 'slide', 'monitors', 'borges', 'es', 'por', 'rendered', 'apple', 'widely', 'personally', 'attendance', 'ambient', 'invoked', 'meaning', 'street', 'powerful', 'guided', 'apollo', 'missions', 'hotel', 'airport', 'simply', 'obviously', 'evaluate', 'route', 'automate', 'skill', 'involved', 'tries', 'possible', 'current', 'applications', 'context', 'earnest', 'store', 'truly', 'conceivably', 'wave', 'detect', 'cancer', 'ancient', 'achievement', 'minutes', 'successfully', 'laid', 'plausible']\n"
     ]
    }
   ],
   "source": [
    "print(just_words)"
   ]
  },
  {
   "cell_type": "code",
   "execution_count": 21,
   "metadata": {},
   "outputs": [
    {
     "data": {
      "text/plain": [
       "str"
      ]
     },
     "execution_count": 21,
     "metadata": {},
     "output_type": "execute_result"
    }
   ],
   "source": [
    "type(just_words[0])"
   ]
  },
  {
   "cell_type": "code",
   "execution_count": 18,
   "metadata": {
    "collapsed": true
   },
   "outputs": [],
   "source": [
    "wp_sentences = LineSentence('war_and_peace.txt')"
   ]
  },
  {
   "cell_type": "code",
   "execution_count": 19,
   "metadata": {
    "collapsed": true
   },
   "outputs": [],
   "source": [
    "model = Word2Vec(wp_sentences, size=100, window=5, min_count=5, seed=2, workers=4, iter=5)"
   ]
  },
  {
   "cell_type": "code",
   "execution_count": 19,
   "metadata": {
    "collapsed": true
   },
   "outputs": [],
   "source": [
    "#model.most_similar(\"man\")"
   ]
  },
  {
   "cell_type": "code",
   "execution_count": 20,
   "metadata": {
    "collapsed": true
   },
   "outputs": [],
   "source": [
    "from bokeh.models import ColumnDataSource, LabelSet\n",
    "from bokeh.plotting import figure, show, output_file \n",
    "top_words_wap=[]\n",
    "for entry in just_words:\n",
    "    if entry in model.wv.vocab:\n",
    "        top_words_wap.append(entry)\n",
    "#words_wap_model_vec = model[top_words_wap]"
   ]
  },
  {
   "cell_type": "code",
   "execution_count": 49,
   "metadata": {
    "scrolled": true
   },
   "outputs": [
    {
     "name": "stdout",
     "output_type": "stream",
     "text": [
      "['said', 'prince', 'man', 'time', 'face', 'princess', 'went', 'know', 'old', 'eyes', 'men', 'room', 'thought', 'like', 'count', 'began', 'come', 'came', 'asked', 'army', 'looked', 'felt', 'life', 'away', 'left', 'head', 'day', 'people', 'little', 'long', 'hand', 'general', 'heard', 'good', 'way', 'having', 'look', 'saw', 'love', 'right', 'countess', 'young', 'officer', 'father', 'round', 'suddenly', 'moment', 'voice', 'smile', 'looking', 'knew', 'told', 'let', 'took', 'house', 'words', 'turned', 'dear', 'tell', 'think', 'battle', 'evidently', 'understand', 'sat', 'soldiers', 'door', 'feeling', 'going', 'place', 'stood', 'gave', 'horse', 'war', 'replied', 'expression', 'commander', 'position', 'order', 'wife', 'new', 'seen', 'son', 'great', 'enemy', 'chief', 'ran', 'hands', 'troops', 'talk', 'soon', 'want', 'mother', 'shall', 'called', 'shouted', 'taken', 'horses', 'word', 'things', 'saying', 'letter', 'thing', 'mind', 'regiment', 'night', 'sent', 'table', 'found', 'rode', 'sitting', 'entered', 'question', 'officers', 'morning', 'evening', 'moved', 'continued', 'speak', 'drawing', 'brought', 'crowd', 'added', 'de', 'leave', 'cried', 'wounded', 'power', 'near', 'received', 'road', 'taking', 'got', 'orders', 'soldier', 'ask', 'white', 'understood', 'lay', 'fire', 'action', 'happy', 'stopped', 'woman', 'fellow', 'passed', 'death', 'wished', 'talking', 'rose', 'tried', 'wish', 'movement', 'days', 'end', 'friend', 'wanted', 'small', 'turning', 'given', 'remained', 'noticed', 'heart', 'arm', 'impossible', 'longer', 'arms', 'past', 'till', 'far', 'matter', 'forward', 'home', 'possible', 'dinner', 'thousand', 'large', 'seeing', 'news', 'spoke', 'happened', 'set', 'work', 'half', 'tears', 'adjutant', 'ready', 'conversation', 'world', 'trying', 'better', 'coming', 'silent', 'history', 'find', 'gone', 'sound', 'brother', 'faces', 'strange', 'standing', 'honor', 'terrible', 'husband', 'hair', 'met', 'speaking', 'women', 'free', 'daughter', 'soul', 'fact', 'times', 'answered', 'light', 'glanced', 'smiled', 'kept', 'afraid', 'cause', 'known', 'tone', 'reply', 'returned', 'repeated', 'reached', 'smiling', 'village', 'state', 'different', 'family', 'help', 'answer', 'kind', 'field', 'voices', 'held', 'hear', 'especially', 'doctor', 'lost', 'cold', 'certain', 'quickly', 'necessary', 'steps', 'red', 'force', 'followed', 'listened', 'staff', 'society', 'boy', 'air', 'feel', 'later', 'read', 'black', 'sides', 'bridge', 'merely', 'important', 'waiting', 'service', 'immediately', 'law', 'killed', 'glad', 'money', 'command', 'best', 'happiness', 'high', 'girl', 'remember', 'reason', 'excellency', 'contrary', 'present', 'fell', 'believe', 'camp', 'pleasure', 'bad', 'grew', 'appeared', 'course', 'smoke', 'second', 'open', 'fine', 'thinking', 'presence', 'clear', 'town', 'events', 'true', 'says', 'usual', 'coat', 'holding', 'pale', 'affairs', 'loved', 'kissed', 'moving', 'everybody', 'strength', 'line', 'short', 'thoughts', 'bed', 'frightened', 'expressed', 'prisoners', 'attention', 'carriage', 'children', 'military', 'opened', 'peace', 'lips', 'ball', 'freedom', 'ordered', 'historians', 'years', 'fear', 'study', 'captain', 'drew', 'feet', 'window', 'human', 'peasants', 'year', 'led', 'showed', 'need', 'child', 'angry', 'tomorrow', 'making', 'activity', 'rest', 'country', 'dark', 'company', 'handsome', 'colonel', 'attack', 'meet', 'close', 'shoulders', 'able', 'giving', 'ground', 'turn', 'raised', 'asking', 'late', 'silence', 'running', 'hussars', 'campaign', 'generals', 'dress', 'considered', 'straight', 'remembered', 'shouting', 'master', 'sister', 'decided', 'legs', 'business', 'aim', 'project', 'thin', 'body', 'ought', 'galloped', 'guns', 'return', 'wait', 'run', 'struck', 'questions', 'flank', 'closed', 'unable', 'case', 'fresh', 'carried', 'laws', 'uniform', 'changed', 'talked', 'meaning', 'interrupted', 'cry', 'rapidly', 'lady', 'wrote', 'laughing', 'meeting', 'blue', 'opinion', 'live', 'arrived', 'clearly', 'sight', 'expected', 'remarked', 'hope', 'duty', 'occupied', 'plan', 'corner', 'event', 'today', 'listen', 'hardly', 'beginning', 'living', 'spent', 'covered', 'gazed', 'particularly', 'experienced', 'foot', 'water', 'cannon', 'pleased', 'subject', 'guards', 'forces', 'porch', 'farther', 'book', 'calm', 'gray', 'pleasant', 'knowing', 'knows', 'sounds', 'truth', 'use', 'listening', 'reading', 'surprise', 'deep', 'view', 'firing', 'retreat', 'despite', 'pass', 'passing', 'exclaimed', 'middle', 'hussar', 'victory', 'instead', 'cap', 'happen', 'bring', 'difficult', 'sake', 'probably', 'change', 'marry', 'gentlemen', 'hard', 'hills', 'hill', 'grown', 'beautiful', 'point', 'leaving', 'lying', 'infantry', 'meant', 'fixed', 'finished', 'seized', 'nonsense', 'joy', 'pressed', 'begun', 'carts', 'bald', 'quiet', 'sad', 'whispered', 'ladies', 'step', 'prepared', 'ill', 'continually', 'march', 'number', 'asleep', 'laughed', 'effort', 'street', 'distance', 'ranks', 'rushed', 'angrily', 'single', 'pointing', 'drove', 'poor', 'person', 'mouth', 'remain', 'future', 'simply', 'getting', 'cavalry', 'affair', 'evident', 'sleep', 'fight', 'condition', 'involuntarily', 'conception', 'tea', 'nearer', 'thank', 'story', 'drawn', 'hearing', 'battery', 'cross', 'direction', 'fall', 'glass', 'following', 'ago', 'lived', 'peasant', 'suite', 'means', 'suffering', 'sofa', 'matters', 'paused', 'married', 'special', 'formed', 'glancing', 'low', 'hour', 'looks', 'idea', 'dead', 'forget', 'desire', 'presented', 'result', 'bright', 'dressed', 'real', 'path', 'liked', 'danger', 'try', 'actions', 'sense', 'spite', 'placed', 'party', 'stop', 'laughter', 'court', 'occurred', 'guests', 'pretty', 'addressing', 'enter', 'glance', 'approached', 'brilliant', 'begin', 'figure', 'notice', 'walked', 'send', 'according', 'report', 'sit', 'wearing', 'splendid', 'rubles', 'group', 'sure', 'muttered', 'plain', 'account', 'neck', 'consciousness', 'simple', 'hurriedly', 'understanding', 'die', 'serfs', 'leg', 'feelings', 'dressing', 'interest', 'consider', 'friends', 'flushed', 'filled', 'silently', 'governor', 'city', 'written', 'settled', 'chair', 'telling', 'growing', 'relations', 'strong', 'wrong', 'unknown', 'post', 'mean', 'effect', 'bare', 'sorry', 'cut', 'crossed', 'surrounded', 'snow', 'seven', 'blood', 'expecting', 'visit', 'act', 'government', 'pity', 'hold', 'imagine', 'greater', 'riding', 'squadron', 'blame', 'advance', 'houses', 'forest', 'wood', 'fate', 'animated', 'lifted', 'wishing', 'instant', 'minutes', 'learned', 'boots', 'excited', 'genius', 'explain', 'bent', 'express', 'regard', 'sky', 'devil', 'needed', 'marshal', 'sun', 'maid', 'sovereign', 'spread', 'dying', 'recognized', 'manner', 'write', 'addressed', 'threw', 'letters', 'yard', 'wolf', 'health', 'beauty', 'doubt', 'gazing', 'laugh', 'aside', 'visitors', 'pointed', 'slightly', 'significance', 'conditions', 'possibility', 'earth', 'form', 'certainly', 'approaching', 'kindly', 'fingers', 'touched', 'broken', 'surprised', 'familiar', 'tall', 'paper', 'burning', 'miles', 'marriage', 'personal', 'shed', 'bowed', 'amid', 'rising', 'shoulder', 'grand', 'started', 'shown', 'caught', 'higher', 'river', 'character', 'king', 'big', 'lit', 'ashamed', 'heaven', 'allow', 'sort', 'play', 'nearly', 'spot', 'lad', 'stay', 'forgive', 'confused', 'conscious', 'handed', 'estate', 'destroyed', 'noticing', 'movements', 'nurse', 'sacrifice', 'church', 'plans', 'major', 'advanced', 'hut', 'gate', 'promised', 'ones', 'opposite', 'supper', 'spoken', 'happens', 'bit', 'quietly', 'sorrow', 'stern', 'sighed', 'fallen', 'commanders', 'charming', 'unexpectedly', 'bear', 'highest', 'arrival', 'stupid', 'eye', 'pushed', 'regarded', 'entering', 'yesterday', 'avoid', 'died', 'burned', 'abandoned', 'circle', 'apart', 'hastily', 'convinced', 'hall', 'cloak', 'appear', 'comes', 'laid', 'carry', 'twice', 'early', 'servants', 'chance', 'artillery', 'mass', 'fond', 'ceased', 'broke', 'rooms', 'merry', 'stepped', 'passage', 'heavy', 'caused', 'journey', 'stand', 'quarters', 'division', 'historical', 'le', 'appointed', 'assumed', 'necessity', 'mon', 'shook', 'drive', 'putting', 'kill', 'girls', 'heads', 'scarcely', 'crossing', 'darkness', 'inevitability', 'mentioned', 'gesture', 'relation', 'broad', 'nose', 'object', 'forgotten', 'shouts', 'loud', 'circumstances', 'common', 'thirty', 'interests', 'wine', 'purpose', 'box', 'minister', 'burst', 'easy', 'arranged', 'hot', 'agitated', 'hat', 'agree', 'floor', 'satisfaction', 'club', 'playing', 'direct', 'success', 'places', 'directed', 'ride', 'council', 'reception', 'spirit', 'center', 'joined', 'uttered', 'offered', 'joyful', 'moments', 'outside', 'pay', 'frowning', 'cheerful', 'dreadful', 'wide', 'returning', 'tender', 'worse', 'care', 'coachman', 'members', 'regimental', 'singing', 'alive', 'shot', 'streets', 'absence', 'importance', 'footman', 'rich', 'reports', 'aunt', 'dull', 'stout', 'gathered', 'green', 'expect', 'blushed', 'recalled', 'wall', 'serve', 'walk', 'causes', 'curiosity', 'chest', 'music', 'warm', 'brothers', 'departure', 'awaiting', 'clever', 'weak', 'firm']\n"
     ]
    }
   ],
   "source": [
    "print(top_words_wap)"
   ]
  },
  {
   "cell_type": "code",
   "execution_count": 21,
   "metadata": {
    "collapsed": true
   },
   "outputs": [],
   "source": [
    "words_wap_model_vec = model[top_words_wap]"
   ]
  },
  {
   "cell_type": "code",
   "execution_count": 22,
   "metadata": {
    "collapsed": true
   },
   "outputs": [],
   "source": [
    "from sklearn.manifold import TSNE\n",
    "tsne = TSNE(n_components=2, random_state=0)\n",
    "words_tsne = tsne.fit_transform(words_wap_model_vec)"
   ]
  },
  {
   "cell_type": "code",
   "execution_count": 23,
   "metadata": {
    "collapsed": true
   },
   "outputs": [],
   "source": [
    "p = figure(tools=\"pan,wheel_zoom,reset,save\",\n",
    "           toolbar_location=\"above\",\n",
    "           title=\"word2vec T-SNE for most common words\")\n",
    "\n",
    "source = ColumnDataSource(data=dict(x1=words_tsne[:,0],\n",
    "                                    x2=words_tsne[:,1],\n",
    "                                    names=top_words_wap))\n",
    "p.scatter(x=\"x1\", y=\"x2\", size=8, source=source)\n",
    "\n",
    "labels = LabelSet(x=\"x1\", y=\"x2\", text=\"names\", y_offset=6,\n",
    "                  text_font_size=\"8pt\", text_color=\"#555555\",\n",
    "                  source=source, text_align='center')\n",
    "p.add_layout(labels)\n",
    "\n",
    "show(p)"
   ]
  },
  {
   "cell_type": "code",
   "execution_count": null,
   "metadata": {
    "collapsed": true
   },
   "outputs": [],
   "source": []
  }
 ],
 "metadata": {
  "kernelspec": {
   "display_name": "Python 3",
   "language": "python",
   "name": "python3"
  },
  "language_info": {
   "codemirror_mode": {
    "name": "ipython",
    "version": 3
   },
   "file_extension": ".py",
   "mimetype": "text/x-python",
   "name": "python",
   "nbconvert_exporter": "python",
   "pygments_lexer": "ipython3",
   "version": "3.6.1"
  }
 },
 "nbformat": 4,
 "nbformat_minor": 2
}
